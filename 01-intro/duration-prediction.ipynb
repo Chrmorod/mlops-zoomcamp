{
 "cells": [
  {
   "cell_type": "code",
   "execution_count": 1,
   "id": "8937cf0a",
   "metadata": {},
   "outputs": [
    {
     "name": "stdout",
     "output_type": "stream",
     "text": [
      "Python 3.9.12\r\n"
     ]
    }
   ],
   "source": [
    "!python -V"
   ]
  },
  {
   "cell_type": "code",
   "execution_count": 2,
   "id": "45611cf1",
   "metadata": {},
   "outputs": [],
   "source": [
    "import pandas as pd"
   ]
  },
  {
   "cell_type": "code",
   "execution_count": 39,
   "id": "aab6e653",
   "metadata": {},
   "outputs": [],
   "source": [
    "import pickle"
   ]
  },
  {
   "cell_type": "code",
   "execution_count": 3,
   "id": "20775cab",
   "metadata": {},
   "outputs": [],
   "source": [
    "import seaborn as sns\n",
    "import matplotlib.pyplot as plt"
   ]
  },
  {
   "cell_type": "code",
   "execution_count": 35,
   "id": "3f3eb645",
   "metadata": {},
   "outputs": [],
   "source": [
    "from sklearn.feature_extraction import DictVectorizer\n",
    "from sklearn.linear_model import LinearRegression\n",
    "from sklearn.linear_model import Lasso\n",
    "from sklearn.linear_model import Ridge\n",
    "from sklearn.metrics import mean_squared_error"
   ]
  },
  {
   "cell_type": "code",
   "execution_count": 5,
   "id": "a6a9113a",
   "metadata": {},
   "outputs": [],
   "source": [
    "df = pd.read_parquet('https://d37ci6vzurychx.cloudfront.net/trip-data/green_tripdata_2021-01.parquet')"
   ]
  },
  {
   "cell_type": "code",
   "execution_count": 6,
   "id": "15db5fdf",
   "metadata": {},
   "outputs": [],
   "source": [
    "df.lpep_dropoff_datetime = pd.to_datetime(df.lpep_dropoff_datetime)\n",
    "df.lpep_pickup_datetime = pd.to_datetime(df.lpep_pickup_datetime)"
   ]
  },
  {
   "cell_type": "code",
   "execution_count": 7,
   "id": "3ab325f9",
   "metadata": {},
   "outputs": [],
   "source": [
    "df['duration'] =df.lpep_dropoff_datetime - df.lpep_pickup_datetime"
   ]
  },
  {
   "cell_type": "code",
   "execution_count": 8,
   "id": "f541f11a",
   "metadata": {},
   "outputs": [],
   "source": [
    "df.duration = df.duration.apply(lambda td: td.total_seconds() / 60) #convert to seconds"
   ]
  },
  {
   "cell_type": "code",
   "execution_count": 9,
   "id": "c19f27c3",
   "metadata": {},
   "outputs": [],
   "source": [
    "df=df[df.trip_type == 2] #Dispatch"
   ]
  },
  {
   "cell_type": "code",
   "execution_count": 10,
   "id": "e1046726",
   "metadata": {},
   "outputs": [
    {
     "data": {
      "text/plain": [
       "count    1238.000000\n",
       "mean       18.305493\n",
       "std       108.364382\n",
       "min         0.000000\n",
       "50%         1.666667\n",
       "95%        35.604167\n",
       "98%        59.339333\n",
       "99%       149.837833\n",
       "max      1416.100000\n",
       "Name: duration, dtype: float64"
      ]
     },
     "execution_count": 10,
     "metadata": {},
     "output_type": "execute_result"
    }
   ],
   "source": [
    "df.duration.describe(percentiles=[0.95,0.98,0.99])"
   ]
  },
  {
   "cell_type": "code",
   "execution_count": 11,
   "id": "ba9bccb8",
   "metadata": {},
   "outputs": [
    {
     "data": {
      "text/plain": [
       "0.5169628432956381"
      ]
     },
     "execution_count": 11,
     "metadata": {},
     "output_type": "execute_result"
    }
   ],
   "source": [
    "((df.duration >= 1) & (df.duration <= 60)).mean()"
   ]
  },
  {
   "cell_type": "code",
   "execution_count": 12,
   "id": "681aede4",
   "metadata": {},
   "outputs": [],
   "source": [
    "df = df[((df.duration >= 1) & (df.duration <= 60))]"
   ]
  },
  {
   "cell_type": "code",
   "execution_count": 13,
   "id": "36f750f4",
   "metadata": {},
   "outputs": [],
   "source": [
    "categorical = ['PULocationID','DOLocationID']\n",
    "numerical = ['trip_distance']"
   ]
  },
  {
   "cell_type": "code",
   "execution_count": 14,
   "id": "c59e05a9",
   "metadata": {},
   "outputs": [],
   "source": [
    "df[categorical] = df[categorical].astype(str)"
   ]
  },
  {
   "cell_type": "code",
   "execution_count": 15,
   "id": "869aaf76",
   "metadata": {},
   "outputs": [],
   "source": [
    "train_dicts = df[categorical + numerical].to_dict(orient='records')"
   ]
  },
  {
   "cell_type": "code",
   "execution_count": 16,
   "id": "3bde495d",
   "metadata": {},
   "outputs": [],
   "source": [
    "dv = DictVectorizer()\n",
    "X_train = dv.fit_transform(train_dicts)"
   ]
  },
  {
   "cell_type": "code",
   "execution_count": 17,
   "id": "a1be2eb1",
   "metadata": {},
   "outputs": [
    {
     "data": {
      "text/plain": [
       "<640x236 sparse matrix of type '<class 'numpy.float64'>'\n",
       "\twith 1920 stored elements in Compressed Sparse Row format>"
      ]
     },
     "execution_count": 17,
     "metadata": {},
     "output_type": "execute_result"
    }
   ],
   "source": [
    "X_train"
   ]
  },
  {
   "cell_type": "code",
   "execution_count": 18,
   "id": "4ba3970b",
   "metadata": {},
   "outputs": [
    {
     "data": {
      "text/plain": [
       "['DOLocationID=1',\n",
       " 'DOLocationID=10',\n",
       " 'DOLocationID=106',\n",
       " 'DOLocationID=107',\n",
       " 'DOLocationID=112',\n",
       " 'DOLocationID=116',\n",
       " 'DOLocationID=118',\n",
       " 'DOLocationID=119',\n",
       " 'DOLocationID=121',\n",
       " 'DOLocationID=126',\n",
       " 'DOLocationID=127',\n",
       " 'DOLocationID=128',\n",
       " 'DOLocationID=129',\n",
       " 'DOLocationID=130',\n",
       " 'DOLocationID=131',\n",
       " 'DOLocationID=132',\n",
       " 'DOLocationID=134',\n",
       " 'DOLocationID=135',\n",
       " 'DOLocationID=136',\n",
       " 'DOLocationID=138',\n",
       " 'DOLocationID=140',\n",
       " 'DOLocationID=141',\n",
       " 'DOLocationID=143',\n",
       " 'DOLocationID=145',\n",
       " 'DOLocationID=146',\n",
       " 'DOLocationID=147',\n",
       " 'DOLocationID=148',\n",
       " 'DOLocationID=151',\n",
       " 'DOLocationID=152',\n",
       " 'DOLocationID=156',\n",
       " 'DOLocationID=159',\n",
       " 'DOLocationID=16',\n",
       " 'DOLocationID=161',\n",
       " 'DOLocationID=162',\n",
       " 'DOLocationID=163',\n",
       " 'DOLocationID=165',\n",
       " 'DOLocationID=166',\n",
       " 'DOLocationID=167',\n",
       " 'DOLocationID=168',\n",
       " 'DOLocationID=169',\n",
       " 'DOLocationID=17',\n",
       " 'DOLocationID=170',\n",
       " 'DOLocationID=173',\n",
       " 'DOLocationID=174',\n",
       " 'DOLocationID=177',\n",
       " 'DOLocationID=179',\n",
       " 'DOLocationID=18',\n",
       " 'DOLocationID=182',\n",
       " 'DOLocationID=183',\n",
       " 'DOLocationID=185',\n",
       " 'DOLocationID=186',\n",
       " 'DOLocationID=188',\n",
       " 'DOLocationID=191',\n",
       " 'DOLocationID=192',\n",
       " 'DOLocationID=193',\n",
       " 'DOLocationID=195',\n",
       " 'DOLocationID=196',\n",
       " 'DOLocationID=197',\n",
       " 'DOLocationID=198',\n",
       " 'DOLocationID=20',\n",
       " 'DOLocationID=200',\n",
       " 'DOLocationID=202',\n",
       " 'DOLocationID=205',\n",
       " 'DOLocationID=208',\n",
       " 'DOLocationID=210',\n",
       " 'DOLocationID=212',\n",
       " 'DOLocationID=213',\n",
       " 'DOLocationID=215',\n",
       " 'DOLocationID=216',\n",
       " 'DOLocationID=217',\n",
       " 'DOLocationID=218',\n",
       " 'DOLocationID=22',\n",
       " 'DOLocationID=223',\n",
       " 'DOLocationID=226',\n",
       " 'DOLocationID=227',\n",
       " 'DOLocationID=229',\n",
       " 'DOLocationID=231',\n",
       " 'DOLocationID=232',\n",
       " 'DOLocationID=235',\n",
       " 'DOLocationID=236',\n",
       " 'DOLocationID=237',\n",
       " 'DOLocationID=238',\n",
       " 'DOLocationID=24',\n",
       " 'DOLocationID=241',\n",
       " 'DOLocationID=242',\n",
       " 'DOLocationID=243',\n",
       " 'DOLocationID=244',\n",
       " 'DOLocationID=247',\n",
       " 'DOLocationID=248',\n",
       " 'DOLocationID=25',\n",
       " 'DOLocationID=250',\n",
       " 'DOLocationID=254',\n",
       " 'DOLocationID=256',\n",
       " 'DOLocationID=258',\n",
       " 'DOLocationID=260',\n",
       " 'DOLocationID=262',\n",
       " 'DOLocationID=263',\n",
       " 'DOLocationID=264',\n",
       " 'DOLocationID=265',\n",
       " 'DOLocationID=28',\n",
       " 'DOLocationID=29',\n",
       " 'DOLocationID=3',\n",
       " 'DOLocationID=32',\n",
       " 'DOLocationID=33',\n",
       " 'DOLocationID=35',\n",
       " 'DOLocationID=36',\n",
       " 'DOLocationID=41',\n",
       " 'DOLocationID=42',\n",
       " 'DOLocationID=43',\n",
       " 'DOLocationID=47',\n",
       " 'DOLocationID=48',\n",
       " 'DOLocationID=51',\n",
       " 'DOLocationID=55',\n",
       " 'DOLocationID=56',\n",
       " 'DOLocationID=59',\n",
       " 'DOLocationID=60',\n",
       " 'DOLocationID=61',\n",
       " 'DOLocationID=65',\n",
       " 'DOLocationID=68',\n",
       " 'DOLocationID=69',\n",
       " 'DOLocationID=7',\n",
       " 'DOLocationID=70',\n",
       " 'DOLocationID=74',\n",
       " 'DOLocationID=75',\n",
       " 'DOLocationID=76',\n",
       " 'DOLocationID=77',\n",
       " 'DOLocationID=78',\n",
       " 'DOLocationID=81',\n",
       " 'DOLocationID=82',\n",
       " 'DOLocationID=83',\n",
       " 'DOLocationID=89',\n",
       " 'DOLocationID=92',\n",
       " 'DOLocationID=93',\n",
       " 'DOLocationID=94',\n",
       " 'DOLocationID=95',\n",
       " 'DOLocationID=98',\n",
       " 'PULocationID=10',\n",
       " 'PULocationID=106',\n",
       " 'PULocationID=112',\n",
       " 'PULocationID=116',\n",
       " 'PULocationID=119',\n",
       " 'PULocationID=120',\n",
       " 'PULocationID=121',\n",
       " 'PULocationID=127',\n",
       " 'PULocationID=129',\n",
       " 'PULocationID=130',\n",
       " 'PULocationID=131',\n",
       " 'PULocationID=133',\n",
       " 'PULocationID=134',\n",
       " 'PULocationID=135',\n",
       " 'PULocationID=136',\n",
       " 'PULocationID=145',\n",
       " 'PULocationID=147',\n",
       " 'PULocationID=152',\n",
       " 'PULocationID=156',\n",
       " 'PULocationID=159',\n",
       " 'PULocationID=16',\n",
       " 'PULocationID=165',\n",
       " 'PULocationID=166',\n",
       " 'PULocationID=167',\n",
       " 'PULocationID=168',\n",
       " 'PULocationID=169',\n",
       " 'PULocationID=173',\n",
       " 'PULocationID=174',\n",
       " 'PULocationID=177',\n",
       " 'PULocationID=179',\n",
       " 'PULocationID=18',\n",
       " 'PULocationID=182',\n",
       " 'PULocationID=183',\n",
       " 'PULocationID=184',\n",
       " 'PULocationID=188',\n",
       " 'PULocationID=191',\n",
       " 'PULocationID=192',\n",
       " 'PULocationID=193',\n",
       " 'PULocationID=195',\n",
       " 'PULocationID=196',\n",
       " 'PULocationID=197',\n",
       " 'PULocationID=20',\n",
       " 'PULocationID=200',\n",
       " 'PULocationID=203',\n",
       " 'PULocationID=212',\n",
       " 'PULocationID=213',\n",
       " 'PULocationID=215',\n",
       " 'PULocationID=216',\n",
       " 'PULocationID=217',\n",
       " 'PULocationID=220',\n",
       " 'PULocationID=223',\n",
       " 'PULocationID=226',\n",
       " 'PULocationID=227',\n",
       " 'PULocationID=235',\n",
       " 'PULocationID=236',\n",
       " 'PULocationID=241',\n",
       " 'PULocationID=242',\n",
       " 'PULocationID=243',\n",
       " 'PULocationID=244',\n",
       " 'PULocationID=247',\n",
       " 'PULocationID=248',\n",
       " 'PULocationID=25',\n",
       " 'PULocationID=250',\n",
       " 'PULocationID=254',\n",
       " 'PULocationID=258',\n",
       " 'PULocationID=26',\n",
       " 'PULocationID=260',\n",
       " 'PULocationID=265',\n",
       " 'PULocationID=28',\n",
       " 'PULocationID=29',\n",
       " 'PULocationID=32',\n",
       " 'PULocationID=41',\n",
       " 'PULocationID=42',\n",
       " 'PULocationID=47',\n",
       " 'PULocationID=49',\n",
       " 'PULocationID=51',\n",
       " 'PULocationID=56',\n",
       " 'PULocationID=59',\n",
       " 'PULocationID=60',\n",
       " 'PULocationID=61',\n",
       " 'PULocationID=65',\n",
       " 'PULocationID=69',\n",
       " 'PULocationID=7',\n",
       " 'PULocationID=72',\n",
       " 'PULocationID=74',\n",
       " 'PULocationID=75',\n",
       " 'PULocationID=77',\n",
       " 'PULocationID=78',\n",
       " 'PULocationID=80',\n",
       " 'PULocationID=81',\n",
       " 'PULocationID=82',\n",
       " 'PULocationID=83',\n",
       " 'PULocationID=89',\n",
       " 'PULocationID=92',\n",
       " 'PULocationID=93',\n",
       " 'PULocationID=94',\n",
       " 'PULocationID=95',\n",
       " 'PULocationID=97',\n",
       " 'PULocationID=98',\n",
       " 'trip_distance']"
      ]
     },
     "execution_count": 18,
     "metadata": {},
     "output_type": "execute_result"
    }
   ],
   "source": [
    "dv.feature_names_"
   ]
  },
  {
   "cell_type": "code",
   "execution_count": 19,
   "id": "34713de7",
   "metadata": {},
   "outputs": [],
   "source": [
    "target = 'duration'\n",
    "y_train = df[target].values"
   ]
  },
  {
   "cell_type": "code",
   "execution_count": 20,
   "id": "199c0093",
   "metadata": {},
   "outputs": [
    {
     "data": {
      "text/plain": [
       "array([19.76666667, 20.73333333,  8.16666667, 12.98333333,  5.31666667,\n",
       "        1.26666667,  1.6       ,  5.03333333,  1.86666667,  6.38333333,\n",
       "       34.71666667,  1.35      , 27.23333333,  9.11666667, 26.23333333,\n",
       "       28.75      , 22.01666667, 21.85      , 20.96666667, 21.61666667,\n",
       "        9.26666667, 22.63333333, 25.41666667,  1.2       , 16.7       ,\n",
       "       49.2       ,  7.35      , 14.16666667, 13.58333333, 24.06666667,\n",
       "       24.2       , 27.21666667, 19.61666667, 12.71666667, 18.83333333,\n",
       "        6.26666667,  2.53333333, 13.26666667,  7.63333333, 54.71666667,\n",
       "        3.75      ,  4.15      ,  3.65      , 10.26666667,  5.6       ,\n",
       "        2.93333333, 33.95      ,  6.53333333, 10.08333333, 21.96666667,\n",
       "       30.96666667,  5.78333333, 11.05      ,  7.35      , 18.15      ,\n",
       "       10.25      ,  1.95      ,  1.95      , 38.2       , 12.3       ,\n",
       "       14.03333333, 16.91666667,  3.83333333, 14.31666667,  7.01666667,\n",
       "       19.56666667,  6.41666667, 38.48333333, 34.98333333, 10.38333333,\n",
       "       17.2       ,  3.46666667,  7.38333333, 36.03333333,  1.23333333,\n",
       "        8.86666667, 35.21666667,  1.53333333,  1.06666667,  1.01666667,\n",
       "       16.41666667, 23.56666667, 17.61666667, 34.33333333,  7.43333333,\n",
       "        7.05      , 22.13333333,  4.48333333, 13.35      ,  4.66666667,\n",
       "       15.16666667, 35.        ,  2.06666667, 17.46666667, 10.55      ,\n",
       "        6.43333333,  4.3       , 25.18333333, 23.36666667, 10.93333333,\n",
       "       14.35      , 20.73333333, 54.13333333,  1.23333333,  6.13333333,\n",
       "       12.86666667, 30.43333333,  8.45      , 14.86666667, 22.76666667,\n",
       "       16.13333333, 10.73333333,  3.25      , 15.13333333, 13.91666667,\n",
       "        6.43333333, 34.31666667,  4.93333333,  5.9       ,  9.75      ,\n",
       "       13.41666667, 17.63333333, 12.9       , 14.1       ,  5.95      ,\n",
       "       10.21666667, 15.95      , 14.56666667, 16.8       , 18.56666667,\n",
       "       14.43333333,  1.21666667, 18.36666667, 26.38333333,  1.05      ,\n",
       "       29.06666667,  8.85      ,  7.83333333, 11.88333333, 16.45      ,\n",
       "        5.31666667, 13.01666667, 29.15      ,  7.03333333,  2.45      ,\n",
       "        8.55      ,  1.55      ,  9.7       , 15.98333333, 13.06666667,\n",
       "        4.48333333, 39.16666667, 19.95      ,  5.76666667,  3.38333333,\n",
       "       25.46666667, 17.35      ,  8.93333333, 14.48333333, 17.43333333,\n",
       "       39.38333333, 31.1       ,  1.46666667, 32.25      ,  3.01666667,\n",
       "        1.66666667,  1.66666667, 10.4       , 11.46666667, 14.51666667,\n",
       "        1.01666667,  1.9       ,  9.43333333, 15.21666667, 23.75      ,\n",
       "       11.5       , 11.2       ,  5.88333333, 11.51666667, 11.73333333,\n",
       "        1.76666667, 22.9       , 19.33333333,  2.08333333,  5.11666667,\n",
       "        7.33333333, 12.25      , 16.        , 26.4       ,  9.1       ,\n",
       "       13.88333333, 25.83333333, 19.58333333, 38.01666667, 13.25      ,\n",
       "       10.68333333, 20.66666667,  6.9       ,  6.8       ,  7.33333333,\n",
       "        6.15      , 28.45      ,  2.38333333, 13.28333333, 14.15      ,\n",
       "       13.65      ,  8.4       ,  9.86666667, 21.98333333, 33.51666667,\n",
       "       21.4       ,  7.48333333, 14.25      , 11.21666667, 12.08333333,\n",
       "       17.8       , 16.35      , 13.76666667,  7.05      ,  4.93333333,\n",
       "       35.81666667, 18.48333333,  3.5       , 23.35      ,  2.65      ,\n",
       "       52.18333333,  1.83333333,  6.01666667,  5.6       , 10.38333333,\n",
       "       20.76666667,  1.6       , 12.78333333, 22.1       , 12.7       ,\n",
       "        1.36666667, 27.96666667,  2.41666667, 32.91666667, 21.76666667,\n",
       "       17.96666667, 40.15      ,  7.53333333,  7.03333333,  2.5       ,\n",
       "       29.16666667, 20.46666667, 35.9       ,  1.03333333, 39.28333333,\n",
       "       20.75      , 30.81666667, 13.4       , 10.33333333,  9.1       ,\n",
       "       49.4       , 10.43333333,  9.21666667,  9.25      , 10.31666667,\n",
       "       10.31666667,  9.51666667,  3.1       ,  1.3       , 16.18333333,\n",
       "       18.66666667,  1.41666667,  2.31666667, 25.35      ,  7.4       ,\n",
       "       29.06666667,  6.9       , 18.43333333, 17.13333333, 15.11666667,\n",
       "       30.58333333, 22.4       ,  3.98333333,  1.35      ,  7.93333333,\n",
       "       19.73333333,  9.38333333, 13.25      ,  2.53333333,  8.06666667,\n",
       "        6.11666667,  8.3       , 12.33333333,  9.73333333, 18.43333333,\n",
       "       24.86666667, 21.7       , 28.3       ,  5.18333333, 14.5       ,\n",
       "       35.53333333, 19.78333333,  6.16666667,  8.95      , 41.05      ,\n",
       "       36.06666667,  4.38333333,  8.41666667,  5.08333333,  2.35      ,\n",
       "       29.2       , 24.81666667, 13.05      , 27.43333333, 22.9       ,\n",
       "       26.86666667,  1.6       , 23.35      , 28.8       ,  7.96666667,\n",
       "       17.58333333,  8.3       , 15.63333333, 21.38333333, 15.33333333,\n",
       "       35.4       , 27.73333333,  3.7       , 12.18333333,  1.96666667,\n",
       "       12.28333333, 30.43333333, 17.86666667,  9.25      , 27.55      ,\n",
       "       16.41666667,  7.53333333, 11.63333333, 13.4       , 13.56666667,\n",
       "        9.13333333, 13.21666667, 25.8       , 22.76666667,  8.        ,\n",
       "        3.58333333, 26.31666667,  8.3       ,  8.88333333, 20.36666667,\n",
       "       22.4       ,  9.41666667, 20.5       ,  6.23333333,  4.01666667,\n",
       "       11.86666667, 12.56666667, 10.2       , 14.23333333,  2.15      ,\n",
       "        2.15      , 11.4       ,  2.43333333, 11.08333333,  5.16666667,\n",
       "        1.13333333,  4.06666667, 14.38333333,  7.41666667, 58.96666667,\n",
       "        8.21666667, 19.01666667,  9.63333333,  4.46666667, 29.38333333,\n",
       "       33.71666667, 17.8       , 22.11666667,  4.25      , 27.53333333,\n",
       "        9.13333333, 31.18333333, 50.65      , 38.63333333,  7.48333333,\n",
       "       10.        ,  2.53333333, 52.9       ,  9.18333333,  7.25      ,\n",
       "       17.26666667, 31.        , 30.85      , 17.11666667, 24.88333333,\n",
       "       15.61666667, 18.08333333, 11.16666667, 15.01666667,  3.46666667,\n",
       "        3.46666667, 39.11666667, 49.7       , 15.46666667, 37.01666667,\n",
       "       30.48333333, 24.95      ,  2.5       , 24.78333333, 19.5       ,\n",
       "        2.76666667, 23.15      ,  2.        , 33.18333333, 33.78333333,\n",
       "       17.6       ,  5.68333333,  4.73333333,  9.53333333,  1.7       ,\n",
       "       18.28333333, 50.18333333,  1.25      ,  6.65      , 43.85      ,\n",
       "       21.5       , 15.2       ,  9.21666667,  2.68333333,  8.4       ,\n",
       "       47.85      , 30.31666667, 19.38333333, 18.18333333, 25.75      ,\n",
       "       18.7       , 15.45      ,  6.95      ,  9.9       ,  1.5       ,\n",
       "        7.81666667,  3.4       ,  6.71666667, 19.16666667, 19.16666667,\n",
       "        9.11666667, 19.38333333, 20.66666667,  1.88333333, 17.2       ,\n",
       "        1.3       , 23.2       ,  7.75      ,  1.01666667, 36.35      ,\n",
       "       20.51666667,  4.88333333, 16.38333333,  9.68333333, 13.63333333,\n",
       "       26.98333333,  8.18333333,  7.86666667, 14.58333333, 18.81666667,\n",
       "       29.26666667,  7.8       , 34.66666667,  1.03333333,  6.61666667,\n",
       "       26.48333333, 27.18333333,  7.96666667, 19.08333333, 30.51666667,\n",
       "       14.61666667, 35.56666667, 29.3       , 33.56666667, 23.05      ,\n",
       "       33.8       , 15.        , 18.8       , 22.8       , 18.16666667,\n",
       "       16.11666667,  9.23333333,  7.03333333, 16.56666667,  5.78333333,\n",
       "        7.45      ,  8.46666667,  9.33333333,  4.93333333,  4.93333333,\n",
       "        5.68333333, 15.45      , 10.88333333, 19.38333333, 21.71666667,\n",
       "        1.16666667,  6.81666667,  6.23333333, 12.75      , 23.33333333,\n",
       "       27.91666667,  8.53333333, 18.5       , 27.93333333, 21.65      ,\n",
       "       37.66666667, 28.53333333, 18.33333333, 16.96666667,  5.36666667,\n",
       "       12.98333333, 14.6       ,  2.76666667, 13.56666667,  1.36666667,\n",
       "        1.36666667,  1.16666667,  9.63333333,  9.81666667, 12.18333333,\n",
       "       10.55      ,  1.6       , 16.15      ,  3.15      , 25.55      ,\n",
       "        8.35      , 18.06666667, 20.6       , 19.85      ,  8.86666667,\n",
       "        5.01666667, 20.25      ,  3.58333333,  1.63333333, 32.33333333,\n",
       "       10.3       , 18.85      ,  9.03333333, 17.25      ,  1.41666667,\n",
       "        5.91666667, 34.25      ,  1.5       , 47.95      , 10.3       ,\n",
       "       55.73333333, 41.83333333,  4.56666667, 17.01666667,  4.61666667,\n",
       "       55.01666667, 14.98333333, 13.2       ,  6.8       ,  5.73333333,\n",
       "       54.85      ,  1.01666667,  9.2       , 15.78333333, 23.23333333,\n",
       "       15.        ,  2.35      ,  4.96666667, 34.11666667, 25.8       ,\n",
       "       11.98333333,  9.6       ,  1.35      ,  9.33333333, 22.11666667,\n",
       "       19.36666667,  8.95      ,  1.03333333,  5.78333333, 43.38333333,\n",
       "        9.61666667,  2.06666667,  2.93333333, 13.1       ,  1.21666667,\n",
       "       13.43333333,  9.3       , 10.96666667, 11.4       ,  5.86666667,\n",
       "        2.16666667, 29.4       ,  1.1       ,  4.2       , 21.81666667,\n",
       "       22.        ,  1.46666667,  9.93333333, 21.93333333, 43.8       ,\n",
       "       15.28333333,  7.23333333, 19.81666667,  9.25      ,  1.81666667,\n",
       "        3.55      ,  3.23333333,  7.3       ,  7.68333333,  3.78333333,\n",
       "        1.03333333,  8.91666667, 13.81666667, 11.05      , 19.08333333,\n",
       "       32.28333333,  1.16666667, 11.03333333, 20.58333333,  4.81666667,\n",
       "       31.35      ,  7.28333333, 37.91666667, 19.65      ,  4.53333333,\n",
       "       19.4       , 14.        ,  7.93333333,  9.23333333,  7.68333333,\n",
       "       14.08333333,  7.41666667, 18.65      ,  1.36666667,  6.16666667,\n",
       "        2.88333333, 20.01666667,  1.33333333, 11.73333333, 20.51666667,\n",
       "       25.86666667, 17.9       ,  9.45      , 35.03333333, 23.15      ])"
      ]
     },
     "execution_count": 20,
     "metadata": {},
     "output_type": "execute_result"
    }
   ],
   "source": [
    "y_train"
   ]
  },
  {
   "cell_type": "code",
   "execution_count": 21,
   "id": "34b53e2b",
   "metadata": {},
   "outputs": [
    {
     "data": {
      "text/plain": [
       "LinearRegression()"
      ]
     },
     "execution_count": 21,
     "metadata": {},
     "output_type": "execute_result"
    }
   ],
   "source": [
    "lr = LinearRegression()\n",
    "lr.fit(X_train,y_train)"
   ]
  },
  {
   "cell_type": "code",
   "execution_count": 22,
   "id": "e406f445",
   "metadata": {},
   "outputs": [],
   "source": [
    "y_pred = lr.predict(X_train)"
   ]
  },
  {
   "cell_type": "code",
   "execution_count": 23,
   "id": "29a64881",
   "metadata": {},
   "outputs": [
    {
     "name": "stderr",
     "output_type": "stream",
     "text": [
      "/home/codespace/anaconda3/lib/python3.9/site-packages/seaborn/distributions.py:2619: FutureWarning: `distplot` is a deprecated function and will be removed in a future version. Please adapt your code to use either `displot` (a figure-level function with similar flexibility) or `histplot` (an axes-level function for histograms).\n",
      "  warnings.warn(msg, FutureWarning)\n",
      "/home/codespace/anaconda3/lib/python3.9/site-packages/seaborn/distributions.py:2619: FutureWarning: `distplot` is a deprecated function and will be removed in a future version. Please adapt your code to use either `displot` (a figure-level function with similar flexibility) or `histplot` (an axes-level function for histograms).\n",
      "  warnings.warn(msg, FutureWarning)\n"
     ]
    },
    {
     "data": {
      "text/plain": [
       "<matplotlib.legend.Legend at 0x7c8cd1c5e190>"
      ]
     },
     "execution_count": 23,
     "metadata": {},
     "output_type": "execute_result"
    },
    {
     "data": {
      "image/png": "[encoded data removed]",
      "text/plain": [
       "<Figure size 432x288 with 1 Axes>"
      ]
     },
     "metadata": {
      "needs_background": "light"
     },
     "output_type": "display_data"
    }
   ],
   "source": [
    "sns.distplot(y_pred, label='prediction')\n",
    "sns.distplot(y_train,label='actual')\n",
    "plt.legend()"
   ]
  },
  {
   "cell_type": "code",
   "execution_count": 24,
   "id": "a102f71c",
   "metadata": {},
   "outputs": [
    {
     "data": {
      "text/plain": [
       "4.803125833985082"
      ]
     },
     "execution_count": 24,
     "metadata": {},
     "output_type": "execute_result"
    }
   ],
   "source": [
    "mean_squared_error(y_train, y_pred, squared=False)"
   ]
  },
  {
   "cell_type": "code",
   "execution_count": 25,
   "id": "efe3f41d",
   "metadata": {},
   "outputs": [],
   "source": [
    "def read_dataframe(filename):\n",
    "    df = pd.read_parquet(filename)\n",
    "    df.lpep_dropoff_datetime = pd.to_datetime(df.lpep_dropoff_datetime)\n",
    "    df.lpep_pickup_datetime = pd.to_datetime(df.lpep_pickup_datetime)\n",
    "    \n",
    "    df['duration'] =df.lpep_dropoff_datetime - df.lpep_pickup_datetime\n",
    "    df.duration = df.duration.apply(lambda td: td.total_seconds()  / 60)\n",
    "    \n",
    "    df = df[((df.duration >= 1) & (df.duration <= 60))]\n",
    "    \n",
    "    categorical = ['PULocationID','DOLocationID']\n",
    "    df[categorical] = df[categorical].astype(str)\n",
    "    \n",
    "    return df"
   ]
  },
  {
   "cell_type": "code",
   "execution_count": 26,
   "id": "ab905aad",
   "metadata": {},
   "outputs": [],
   "source": [
    "df_train = read_dataframe('https://d37ci6vzurychx.cloudfront.net/trip-data/green_tripdata_2021-01.parquet')\n",
    "df_val = read_dataframe('https://d37ci6vzurychx.cloudfront.net/trip-data/green_tripdata_2021-02.parquet')"
   ]
  },
  {
   "cell_type": "code",
   "execution_count": 27,
   "id": "3403232c",
   "metadata": {},
   "outputs": [
    {
     "data": {
      "text/plain": [
       "(73908, 61921)"
      ]
     },
     "execution_count": 27,
     "metadata": {},
     "output_type": "execute_result"
    }
   ],
   "source": [
    "len(df_train), len(df_val)"
   ]
  },
  {
   "cell_type": "code",
   "execution_count": 37,
   "id": "c023b76f",
   "metadata": {},
   "outputs": [],
   "source": [
    "df_train['PU_DO'] = df_train['PULocationID'] + '_' + df_train['DOLocationID']\n",
    "df_val['PU_DO'] = df_val['PULocationID'] + '_' + df_val['DOLocationID']"
   ]
  },
  {
   "cell_type": "code",
   "execution_count": 38,
   "id": "2e08f4c1",
   "metadata": {},
   "outputs": [
    {
     "data": {
      "text/html": [
       "<div>\n",
       "<style scoped>\n",
       "    .dataframe tbody tr th:only-of-type {\n",
       "        vertical-align: middle;\n",
       "    }\n",
       "\n",
       "    .dataframe tbody tr th {\n",
       "        vertical-align: top;\n",
       "    }\n",
       "\n",
       "    .dataframe thead th {\n",
       "        text-align: right;\n",
       "    }\n",
       "</style>\n",
       "<table border=\"1\" class=\"dataframe\">\n",
       "  <thead>\n",
       "    <tr style=\"text-align: right;\">\n",
       "      <th></th>\n",
       "      <th>VendorID</th>\n",
       "      <th>lpep_pickup_datetime</th>\n",
       "      <th>lpep_dropoff_datetime</th>\n",
       "      <th>store_and_fwd_flag</th>\n",
       "      <th>RatecodeID</th>\n",
       "      <th>PULocationID</th>\n",
       "      <th>DOLocationID</th>\n",
       "      <th>passenger_count</th>\n",
       "      <th>trip_distance</th>\n",
       "      <th>fare_amount</th>\n",
       "      <th>...</th>\n",
       "      <th>tip_amount</th>\n",
       "      <th>tolls_amount</th>\n",
       "      <th>ehail_fee</th>\n",
       "      <th>improvement_surcharge</th>\n",
       "      <th>total_amount</th>\n",
       "      <th>payment_type</th>\n",
       "      <th>trip_type</th>\n",
       "      <th>congestion_surcharge</th>\n",
       "      <th>duration</th>\n",
       "      <th>PU_DO</th>\n",
       "    </tr>\n",
       "  </thead>\n",
       "  <tbody>\n",
       "    <tr>\n",
       "      <th>0</th>\n",
       "      <td>2</td>\n",
       "      <td>2021-02-01 00:34:03</td>\n",
       "      <td>2021-02-01 00:51:58</td>\n",
       "      <td>N</td>\n",
       "      <td>1.0</td>\n",
       "      <td>130</td>\n",
       "      <td>205</td>\n",
       "      <td>5.0</td>\n",
       "      <td>3.66</td>\n",
       "      <td>14.00</td>\n",
       "      <td>...</td>\n",
       "      <td>10.00</td>\n",
       "      <td>0.0</td>\n",
       "      <td>None</td>\n",
       "      <td>0.3</td>\n",
       "      <td>25.30</td>\n",
       "      <td>1.0</td>\n",
       "      <td>1.0</td>\n",
       "      <td>0.00</td>\n",
       "      <td>17.916667</td>\n",
       "      <td>130_205</td>\n",
       "    </tr>\n",
       "    <tr>\n",
       "      <th>1</th>\n",
       "      <td>2</td>\n",
       "      <td>2021-02-01 00:04:00</td>\n",
       "      <td>2021-02-01 00:10:30</td>\n",
       "      <td>N</td>\n",
       "      <td>1.0</td>\n",
       "      <td>152</td>\n",
       "      <td>244</td>\n",
       "      <td>1.0</td>\n",
       "      <td>1.10</td>\n",
       "      <td>6.50</td>\n",
       "      <td>...</td>\n",
       "      <td>0.00</td>\n",
       "      <td>0.0</td>\n",
       "      <td>None</td>\n",
       "      <td>0.3</td>\n",
       "      <td>7.80</td>\n",
       "      <td>2.0</td>\n",
       "      <td>1.0</td>\n",
       "      <td>0.00</td>\n",
       "      <td>6.500000</td>\n",
       "      <td>152_244</td>\n",
       "    </tr>\n",
       "    <tr>\n",
       "      <th>2</th>\n",
       "      <td>2</td>\n",
       "      <td>2021-02-01 00:18:51</td>\n",
       "      <td>2021-02-01 00:34:06</td>\n",
       "      <td>N</td>\n",
       "      <td>1.0</td>\n",
       "      <td>152</td>\n",
       "      <td>48</td>\n",
       "      <td>1.0</td>\n",
       "      <td>4.93</td>\n",
       "      <td>16.50</td>\n",
       "      <td>...</td>\n",
       "      <td>0.00</td>\n",
       "      <td>0.0</td>\n",
       "      <td>None</td>\n",
       "      <td>0.3</td>\n",
       "      <td>20.55</td>\n",
       "      <td>2.0</td>\n",
       "      <td>1.0</td>\n",
       "      <td>2.75</td>\n",
       "      <td>15.250000</td>\n",
       "      <td>152_48</td>\n",
       "    </tr>\n",
       "    <tr>\n",
       "      <th>3</th>\n",
       "      <td>2</td>\n",
       "      <td>2021-02-01 00:53:27</td>\n",
       "      <td>2021-02-01 01:11:41</td>\n",
       "      <td>N</td>\n",
       "      <td>1.0</td>\n",
       "      <td>152</td>\n",
       "      <td>241</td>\n",
       "      <td>1.0</td>\n",
       "      <td>6.70</td>\n",
       "      <td>21.00</td>\n",
       "      <td>...</td>\n",
       "      <td>0.00</td>\n",
       "      <td>0.0</td>\n",
       "      <td>None</td>\n",
       "      <td>0.3</td>\n",
       "      <td>22.30</td>\n",
       "      <td>2.0</td>\n",
       "      <td>1.0</td>\n",
       "      <td>0.00</td>\n",
       "      <td>18.233333</td>\n",
       "      <td>152_241</td>\n",
       "    </tr>\n",
       "    <tr>\n",
       "      <th>4</th>\n",
       "      <td>2</td>\n",
       "      <td>2021-02-01 00:57:46</td>\n",
       "      <td>2021-02-01 01:06:44</td>\n",
       "      <td>N</td>\n",
       "      <td>1.0</td>\n",
       "      <td>75</td>\n",
       "      <td>42</td>\n",
       "      <td>1.0</td>\n",
       "      <td>1.89</td>\n",
       "      <td>8.50</td>\n",
       "      <td>...</td>\n",
       "      <td>2.45</td>\n",
       "      <td>0.0</td>\n",
       "      <td>None</td>\n",
       "      <td>0.3</td>\n",
       "      <td>12.25</td>\n",
       "      <td>1.0</td>\n",
       "      <td>1.0</td>\n",
       "      <td>0.00</td>\n",
       "      <td>8.966667</td>\n",
       "      <td>75_42</td>\n",
       "    </tr>\n",
       "    <tr>\n",
       "      <th>...</th>\n",
       "      <td>...</td>\n",
       "      <td>...</td>\n",
       "      <td>...</td>\n",
       "      <td>...</td>\n",
       "      <td>...</td>\n",
       "      <td>...</td>\n",
       "      <td>...</td>\n",
       "      <td>...</td>\n",
       "      <td>...</td>\n",
       "      <td>...</td>\n",
       "      <td>...</td>\n",
       "      <td>...</td>\n",
       "      <td>...</td>\n",
       "      <td>...</td>\n",
       "      <td>...</td>\n",
       "      <td>...</td>\n",
       "      <td>...</td>\n",
       "      <td>...</td>\n",
       "      <td>...</td>\n",
       "      <td>...</td>\n",
       "      <td>...</td>\n",
       "    </tr>\n",
       "    <tr>\n",
       "      <th>64567</th>\n",
       "      <td>2</td>\n",
       "      <td>2021-02-28 22:19:00</td>\n",
       "      <td>2021-02-28 22:29:00</td>\n",
       "      <td>None</td>\n",
       "      <td>NaN</td>\n",
       "      <td>129</td>\n",
       "      <td>7</td>\n",
       "      <td>NaN</td>\n",
       "      <td>2.63</td>\n",
       "      <td>10.04</td>\n",
       "      <td>...</td>\n",
       "      <td>0.00</td>\n",
       "      <td>0.0</td>\n",
       "      <td>None</td>\n",
       "      <td>0.3</td>\n",
       "      <td>10.34</td>\n",
       "      <td>NaN</td>\n",
       "      <td>NaN</td>\n",
       "      <td>NaN</td>\n",
       "      <td>10.000000</td>\n",
       "      <td>129_7</td>\n",
       "    </tr>\n",
       "    <tr>\n",
       "      <th>64568</th>\n",
       "      <td>2</td>\n",
       "      <td>2021-02-28 23:18:00</td>\n",
       "      <td>2021-02-28 23:27:00</td>\n",
       "      <td>None</td>\n",
       "      <td>NaN</td>\n",
       "      <td>116</td>\n",
       "      <td>166</td>\n",
       "      <td>NaN</td>\n",
       "      <td>1.87</td>\n",
       "      <td>8.33</td>\n",
       "      <td>...</td>\n",
       "      <td>1.89</td>\n",
       "      <td>0.0</td>\n",
       "      <td>None</td>\n",
       "      <td>0.3</td>\n",
       "      <td>10.52</td>\n",
       "      <td>NaN</td>\n",
       "      <td>NaN</td>\n",
       "      <td>NaN</td>\n",
       "      <td>9.000000</td>\n",
       "      <td>116_166</td>\n",
       "    </tr>\n",
       "    <tr>\n",
       "      <th>64569</th>\n",
       "      <td>2</td>\n",
       "      <td>2021-02-28 23:44:00</td>\n",
       "      <td>2021-02-28 23:58:00</td>\n",
       "      <td>None</td>\n",
       "      <td>NaN</td>\n",
       "      <td>74</td>\n",
       "      <td>151</td>\n",
       "      <td>NaN</td>\n",
       "      <td>2.40</td>\n",
       "      <td>12.61</td>\n",
       "      <td>...</td>\n",
       "      <td>0.00</td>\n",
       "      <td>0.0</td>\n",
       "      <td>None</td>\n",
       "      <td>0.3</td>\n",
       "      <td>12.91</td>\n",
       "      <td>NaN</td>\n",
       "      <td>NaN</td>\n",
       "      <td>NaN</td>\n",
       "      <td>14.000000</td>\n",
       "      <td>74_151</td>\n",
       "    </tr>\n",
       "    <tr>\n",
       "      <th>64570</th>\n",
       "      <td>2</td>\n",
       "      <td>2021-02-28 23:07:00</td>\n",
       "      <td>2021-02-28 23:14:00</td>\n",
       "      <td>None</td>\n",
       "      <td>NaN</td>\n",
       "      <td>42</td>\n",
       "      <td>42</td>\n",
       "      <td>NaN</td>\n",
       "      <td>1.11</td>\n",
       "      <td>11.95</td>\n",
       "      <td>...</td>\n",
       "      <td>0.00</td>\n",
       "      <td>0.0</td>\n",
       "      <td>None</td>\n",
       "      <td>0.3</td>\n",
       "      <td>15.00</td>\n",
       "      <td>NaN</td>\n",
       "      <td>NaN</td>\n",
       "      <td>NaN</td>\n",
       "      <td>7.000000</td>\n",
       "      <td>42_42</td>\n",
       "    </tr>\n",
       "    <tr>\n",
       "      <th>64571</th>\n",
       "      <td>2</td>\n",
       "      <td>2021-02-28 23:43:00</td>\n",
       "      <td>2021-02-28 23:50:00</td>\n",
       "      <td>None</td>\n",
       "      <td>NaN</td>\n",
       "      <td>42</td>\n",
       "      <td>41</td>\n",
       "      <td>NaN</td>\n",
       "      <td>1.40</td>\n",
       "      <td>8.21</td>\n",
       "      <td>...</td>\n",
       "      <td>0.00</td>\n",
       "      <td>0.0</td>\n",
       "      <td>None</td>\n",
       "      <td>0.3</td>\n",
       "      <td>8.51</td>\n",
       "      <td>NaN</td>\n",
       "      <td>NaN</td>\n",
       "      <td>NaN</td>\n",
       "      <td>7.000000</td>\n",
       "      <td>42_41</td>\n",
       "    </tr>\n",
       "  </tbody>\n",
       "</table>\n",
       "<p>61921 rows × 22 columns</p>\n",
       "</div>"
      ],
      "text/plain": [
       "       VendorID lpep_pickup_datetime lpep_dropoff_datetime store_and_fwd_flag  \\\n",
       "0             2  2021-02-01 00:34:03   2021-02-01 00:51:58                  N   \n",
       "1             2  2021-02-01 00:04:00   2021-02-01 00:10:30                  N   \n",
       "2             2  2021-02-01 00:18:51   2021-02-01 00:34:06                  N   \n",
       "3             2  2021-02-01 00:53:27   2021-02-01 01:11:41                  N   \n",
       "4             2  2021-02-01 00:57:46   2021-02-01 01:06:44                  N   \n",
       "...         ...                  ...                   ...                ...   \n",
       "64567         2  2021-02-28 22:19:00   2021-02-28 22:29:00               None   \n",
       "64568         2  2021-02-28 23:18:00   2021-02-28 23:27:00               None   \n",
       "64569         2  2021-02-28 23:44:00   2021-02-28 23:58:00               None   \n",
       "64570         2  2021-02-28 23:07:00   2021-02-28 23:14:00               None   \n",
       "64571         2  2021-02-28 23:43:00   2021-02-28 23:50:00               None   \n",
       "\n",
       "       RatecodeID PULocationID DOLocationID  passenger_count  trip_distance  \\\n",
       "0             1.0          130          205              5.0           3.66   \n",
       "1             1.0          152          244              1.0           1.10   \n",
       "2             1.0          152           48              1.0           4.93   \n",
       "3             1.0          152          241              1.0           6.70   \n",
       "4             1.0           75           42              1.0           1.89   \n",
       "...           ...          ...          ...              ...            ...   \n",
       "64567         NaN          129            7              NaN           2.63   \n",
       "64568         NaN          116          166              NaN           1.87   \n",
       "64569         NaN           74          151              NaN           2.40   \n",
       "64570         NaN           42           42              NaN           1.11   \n",
       "64571         NaN           42           41              NaN           1.40   \n",
       "\n",
       "       fare_amount  ...  tip_amount  tolls_amount  ehail_fee  \\\n",
       "0            14.00  ...       10.00           0.0       None   \n",
       "1             6.50  ...        0.00           0.0       None   \n",
       "2            16.50  ...        0.00           0.0       None   \n",
       "3            21.00  ...        0.00           0.0       None   \n",
       "4             8.50  ...        2.45           0.0       None   \n",
       "...            ...  ...         ...           ...        ...   \n",
       "64567        10.04  ...        0.00           0.0       None   \n",
       "64568         8.33  ...        1.89           0.0       None   \n",
       "64569        12.61  ...        0.00           0.0       None   \n",
       "64570        11.95  ...        0.00           0.0       None   \n",
       "64571         8.21  ...        0.00           0.0       None   \n",
       "\n",
       "       improvement_surcharge total_amount  payment_type  trip_type  \\\n",
       "0                        0.3        25.30           1.0        1.0   \n",
       "1                        0.3         7.80           2.0        1.0   \n",
       "2                        0.3        20.55           2.0        1.0   \n",
       "3                        0.3        22.30           2.0        1.0   \n",
       "4                        0.3        12.25           1.0        1.0   \n",
       "...                      ...          ...           ...        ...   \n",
       "64567                    0.3        10.34           NaN        NaN   \n",
       "64568                    0.3        10.52           NaN        NaN   \n",
       "64569                    0.3        12.91           NaN        NaN   \n",
       "64570                    0.3        15.00           NaN        NaN   \n",
       "64571                    0.3         8.51           NaN        NaN   \n",
       "\n",
       "       congestion_surcharge   duration    PU_DO  \n",
       "0                      0.00  17.916667  130_205  \n",
       "1                      0.00   6.500000  152_244  \n",
       "2                      2.75  15.250000   152_48  \n",
       "3                      0.00  18.233333  152_241  \n",
       "4                      0.00   8.966667    75_42  \n",
       "...                     ...        ...      ...  \n",
       "64567                   NaN  10.000000    129_7  \n",
       "64568                   NaN   9.000000  116_166  \n",
       "64569                   NaN  14.000000   74_151  \n",
       "64570                   NaN   7.000000    42_42  \n",
       "64571                   NaN   7.000000    42_41  \n",
       "\n",
       "[61921 rows x 22 columns]"
      ]
     },
     "execution_count": 38,
     "metadata": {},
     "output_type": "execute_result"
    }
   ],
   "source": [
    "df_val"
   ]
  },
  {
   "cell_type": "code",
   "execution_count": 40,
   "id": "e775df44",
   "metadata": {},
   "outputs": [],
   "source": [
    "categorical = ['PU_DO']#'PULocationID','DOLocationID']\n",
    "numerical = ['trip_distance']\n",
    "\n",
    "dv = DictVectorizer()\n",
    "\n",
    "train_dicts = df_train[categorical + numerical].to_dict(orient='records')\n",
    "X_train = dv.fit_transform(train_dicts)\n",
    "\n",
    "val_dicts = df_val[categorical + numerical].to_dict(orient='records')\n",
    "X_val = dv.transform(val_dicts)\n"
   ]
  },
  {
   "cell_type": "code",
   "execution_count": 41,
   "id": "0cdb479d",
   "metadata": {},
   "outputs": [],
   "source": [
    "target = 'duration'\n",
    "y_train = df_train[target].values\n",
    "y_val = df_val[target].values"
   ]
  },
  {
   "cell_type": "code",
   "execution_count": 42,
   "id": "d5638326",
   "metadata": {},
   "outputs": [
    {
     "data": {
      "text/plain": [
       "7.4793657829373155"
      ]
     },
     "execution_count": 42,
     "metadata": {},
     "output_type": "execute_result"
    }
   ],
   "source": [
    "lr = LinearRegression()\n",
    "lr.fit(X_train, y_train)\n",
    "y_pred = lr.predict(X_val)\n",
    "\n",
    "mean_squared_error(y_val,y_pred,squared=False)"
   ]
  },
  {
   "cell_type": "code",
   "execution_count": 43,
   "id": "3d140971",
   "metadata": {},
   "outputs": [
    {
     "data": {
      "text/plain": [
       "9.233436225720547"
      ]
     },
     "execution_count": 43,
     "metadata": {},
     "output_type": "execute_result"
    }
   ],
   "source": [
    "lr = Lasso(alpha=0.001)\n",
    "lr.fit(X_train, y_train)\n",
    "y_pred = lr.predict(X_val)\n",
    "\n",
    "mean_squared_error(y_val,y_pred,squared=False)"
   ]
  },
  {
   "cell_type": "code",
   "execution_count": 44,
   "id": "28c556af",
   "metadata": {},
   "outputs": [
    {
     "data": {
      "text/plain": [
       "11.342603943214286"
      ]
     },
     "execution_count": 44,
     "metadata": {},
     "output_type": "execute_result"
    }
   ],
   "source": [
    "lr = Ridge()\n",
    "lr.fit(X_train, y_train)\n",
    "y_pred = lr.predict(X_val)\n",
    "\n",
    "mean_squared_error(y_val,y_pred,squared=False)"
   ]
  },
  {
   "cell_type": "code",
   "execution_count": 46,
   "id": "b254d184",
   "metadata": {},
   "outputs": [
    {
     "ename": "FileNotFoundError",
     "evalue": "[Errno 2] No such file or directory: 'models/lin_reg.bin'",
     "output_type": "error",
     "traceback": [
      "\u001b[0;31m---------------------------------------------------------------------------\u001b[0m",
      "\u001b[0;31mFileNotFoundError\u001b[0m                         Traceback (most recent call last)",
      "Input \u001b[0;32mIn [46]\u001b[0m, in \u001b[0;36m<cell line: 1>\u001b[0;34m()\u001b[0m\n\u001b[0;32m----> 1\u001b[0m \u001b[38;5;28;01mwith\u001b[39;00m \u001b[38;5;28;43mopen\u001b[39;49m\u001b[43m(\u001b[49m\u001b[38;5;124;43m'\u001b[39;49m\u001b[38;5;124;43mmodels/lin_reg.bin\u001b[39;49m\u001b[38;5;124;43m'\u001b[39;49m\u001b[43m,\u001b[49m\u001b[38;5;124;43m'\u001b[39;49m\u001b[38;5;124;43mwb\u001b[39;49m\u001b[38;5;124;43m'\u001b[39;49m\u001b[43m)\u001b[49m \u001b[38;5;28;01mas\u001b[39;00m f_out:\n\u001b[1;32m      2\u001b[0m     pickle\u001b[38;5;241m.\u001b[39mdump((dv,lr),f_out)\n",
      "\u001b[0;31mFileNotFoundError\u001b[0m: [Errno 2] No such file or directory: 'models/lin_reg.bin'"
     ]
    }
   ],
   "source": [
    "with open('models/lin_reg.bin','wb') as f_out:\n",
    "    pickle.dump((dv,lr),f_out)"
   ]
  },
  {
   "cell_type": "code",
   "execution_count": 47,
   "id": "72554768",
   "metadata": {},
   "outputs": [
    {
     "data": {
      "text/plain": [
       "9.233436225720547"
      ]
     },
     "execution_count": 47,
     "metadata": {},
     "output_type": "execute_result"
    }
   ],
   "source": [
    "lr = Lasso(alpha=0.001)\n",
    "lr.fit(X_train, y_train)\n",
    "y_pred = lr.predict(X_val)\n",
    "\n",
    "mean_squared_error(y_val,y_pred,squared=False)"
   ]
  }
 ],
 "metadata": {
  "kernelspec": {
   "display_name": "Python 3 (ipykernel)",
   "language": "python",
   "name": "python3"
  },
  "language_info": {
   "codemirror_mode": {
    "name": "ipython",
    "version": 3
   },
   "file_extension": ".py",
   "mimetype": "text/x-python",
   "name": "python",
   "nbconvert_exporter": "python",
   "pygments_lexer": "ipython3",
   "version": "3.9.12"
  }
 },
 "nbformat": 4,
 "nbformat_minor": 5
}
