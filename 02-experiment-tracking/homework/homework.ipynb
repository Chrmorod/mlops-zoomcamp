{
 "cells": [
  {
   "cell_type": "markdown",
   "id": "6ee855b1",
   "metadata": {},
   "source": [
    "Q1. Install MLflow\n",
    "To get started with MLflow you'll need to install the MLflow Python package.\n",
    "\n",
    "For this we recommend creating a separate Python environment, for example, you can use conda environments, and then install the package there with pip or conda.\n",
    "\n",
    "Once you installed the package, run the command mlflow --version and check the output.\n",
    "\n",
    "What's the version that you have? A: I have the 2.22.0 mlflow version "
   ]
  },
  {
   "cell_type": "code",
   "execution_count": 42,
   "id": "e9d44dc0",
   "metadata": {},
   "outputs": [],
   "source": [
    "import mlflow"
   ]
  },
  {
   "cell_type": "code",
   "execution_count": 43,
   "id": "8b877c78",
   "metadata": {},
   "outputs": [
    {
     "data": {
      "text/plain": [
       "'2.22.0'"
      ]
     },
     "execution_count": 43,
     "metadata": {},
     "output_type": "execute_result"
    }
   ],
   "source": [
    "mlflow.__version__#my version is 2.22.0"
   ]
  },
  {
   "cell_type": "markdown",
   "id": "8334ea27",
   "metadata": {},
   "source": [
    "Q2. Download and preprocess the data\n",
    "We'll use the Green Taxi Trip Records dataset to predict the duration of each trip.\n",
    "\n",
    "Download the data for January, February and March 2023 in parquet format from here.\n",
    "\n",
    "Use the script preprocess_data.py located in the folder homework to preprocess the data.\n",
    "\n",
    "The script will:\n",
    "\n",
    "load the data from the folder <TAXI_DATA_FOLDER> (the folder where you have downloaded the data),\n",
    "fit a DictVectorizer on the training set (January 2023 data),\n",
    "save the preprocessed datasets and the DictVectorizer to disk.\n",
    "Your task is to download the datasets and then execute this command:\n",
    "\n",
    "python preprocess_data.py --raw_data_path <TAXI_DATA_FOLDER> --dest_path ./output\n",
    "Tip: go to 02-experiment-tracking/homework/ folder before executing the command and change the value of <TAXI_DATA_FOLDER> to the location where you saved the data.\n",
    "\n",
    "How many files were saved to OUTPUT_FOLDER? A: The output folder contain 4 files: dv.pkl, test.pkl, train.pkl, val.pkl"
   ]
  },
  {
   "cell_type": "code",
   "execution_count": 44,
   "id": "675cba76",
   "metadata": {},
   "outputs": [
    {
     "data": {
      "text/plain": [
       "['artifacts_local',\n",
       " 'backend.db',\n",
       " 'data',\n",
       " 'homework.ipynb',\n",
       " 'hpo.py',\n",
       " 'mlruns',\n",
       " 'output',\n",
       " 'preprocess_data.py',\n",
       " 'register_model.py',\n",
       " 'train.py',\n",
       " '__pycache__']"
      ]
     },
     "execution_count": 44,
     "metadata": {},
     "output_type": "execute_result"
    }
   ],
   "source": [
    "import os\n",
    "os.chdir(\".\")\n",
    "os.listdir()"
   ]
  },
  {
   "cell_type": "code",
   "execution_count": 45,
   "id": "49145434",
   "metadata": {},
   "outputs": [],
   "source": [
    "!python preprocess_data.py --raw_data_path data/ --dest_path ./output"
   ]
  },
  {
   "cell_type": "markdown",
   "id": "5537be62",
   "metadata": {},
   "source": [
    "Q3. Train a model with autolog\n",
    "We will train a RandomForestRegressor (from Scikit-Learn) on the taxi dataset.\n",
    "\n",
    "We have prepared the training script train.py for this exercise, which can be also found in the folder homework.\n",
    "\n",
    "The script will:\n",
    "\n",
    "load the datasets produced by the previous step,\n",
    "train the model on the training set,\n",
    "calculate the RMSE score on the validation set.\n",
    "Your task is to modify the script to enable autologging with MLflow, execute the script and then launch the MLflow UI to check that the experiment run was properly tracked.\n",
    "\n",
    "Tip 1: don't forget to wrap the training code with a with mlflow.start_run(): statement as we showed in the videos.\n",
    "\n",
    "Tip 2: don't modify the hyperparameters of the model to make sure that the training will finish quickly.\n",
    "\n",
    "What is the value of the min_samples_split parameter: A: The value of the min_samples_split parameter is 2"
   ]
  },
  {
   "cell_type": "code",
   "execution_count": 46,
   "id": "e1838fa6",
   "metadata": {},
   "outputs": [],
   "source": [
    "!python train.py --data_path output/ "
   ]
  },
  {
   "cell_type": "markdown",
   "id": "accc195f",
   "metadata": {},
   "source": [
    "Q4. Launch the tracking server locally\n",
    "Now we want to manage the entire lifecycle of our ML model. In this step, you'll need to launch a tracking server. This way we will also have access to the model registry.\n",
    "\n",
    "Your task is to:\n",
    "\n",
    "launch the tracking server on your local machine,\n",
    "select a SQLite db for the backend store and a folder called artifacts for the artifacts store.\n",
    "You should keep the tracking server running to work on the next two exercises that use the server.\n",
    "\n",
    "In addition to backend-store-uri, what else do you need to pass to properly configure the server?\n",
    "\n",
    "default-artifact-root\n",
    "serve-artifacts\n",
    "artifacts-only\n",
    "artifacts-destination"
   ]
  },
  {
   "cell_type": "markdown",
   "id": "1c44dd24",
   "metadata": {},
   "source": [
    "A: We will need default-artifact-root, for example: \n",
    "mlflow server --backend-store-uri sqlite:///backend.db --defautl-artifact-root ./artifacts_local"
   ]
  },
  {
   "cell_type": "markdown",
   "id": "8631853f",
   "metadata": {},
   "source": [
    "Q5. Tune model hyperparameters\n",
    "Now let's try to reduce the validation error by tuning the hyperparameters of the RandomForestRegressor using hyperopt. We have prepared the script hpo.py for this exercise.\n",
    "\n",
    "Your task is to modify the script hpo.py and make sure that the validation RMSE is logged to the tracking server for each run of the hyperparameter optimization (you will need to add a few lines of code to the objective function) and run the script without passing any parameters.\n",
    "\n",
    "After that, open UI and explore the runs from the experiment called random-forest-hyperopt to answer the question below.\n",
    "\n",
    "Note: Don't use autologging for this exercise.\n",
    "\n",
    "The idea is to just log the information that you need to answer the question below, including:\n",
    "\n",
    "the list of hyperparameters that are passed to the objective function during the optimization,\n",
    "the RMSE obtained on the validation set (February 2023 data).\n",
    "What's the best validation RMSE that you got? A: I got 5.335 the best validation RMSE\n",
    "\n",
    "4.817\n",
    "5.335\n",
    "5.818\n",
    "6.336"
   ]
  },
  {
   "cell_type": "code",
   "execution_count": 52,
   "id": "cc64cf03",
   "metadata": {},
   "outputs": [
    {
     "name": "stdout",
     "output_type": "stream",
     "text": [
      "\n",
      "  0%|          | 0/15 [00:00<?, ?trial/s, best loss=?]\n",
      "                                                      \n",
      "🏃 View run skittish-stag-839 at: http://127.0.0.1:5000/#/experiments/1/runs/7ab5470e445343948851a77dd1b74651\n",
      "\n",
      "\n",
      "  0%|          | 0/15 [00:10<?, ?trial/s, best loss=?]\n",
      "                                                      \n",
      "🧪 View experiment at: http://127.0.0.1:5000/#/experiments/1\n",
      "\n",
      "\n",
      "  0%|          | 0/15 [00:10<?, ?trial/s, best loss=?]\n",
      "  7%|▋         | 1/15 [00:10<02:21, 10.13s/trial, best loss: 5.370086069268862]\n",
      "                                                                               \n",
      "🏃 View run awesome-ox-321 at: http://127.0.0.1:5000/#/experiments/1/runs/62eeccfbf6024411a2f79461f6767035\n",
      "\n",
      "\n",
      "  7%|▋         | 1/15 [00:10<02:21, 10.13s/trial, best loss: 5.370086069268862]\n",
      "                                                                               \n",
      "🧪 View experiment at: http://127.0.0.1:5000/#/experiments/1\n",
      "\n",
      "\n",
      "  7%|▋         | 1/15 [00:10<02:21, 10.13s/trial, best loss: 5.370086069268862]\n",
      " 13%|█▎        | 2/15 [00:10<00:58,  4.50s/trial, best loss: 5.370086069268862]\n",
      "                                                                               \n",
      "🏃 View run agreeable-bass-393 at: http://127.0.0.1:5000/#/experiments/1/runs/5a2637a87328495d9ff2c7e1d3c186cb\n",
      "\n",
      "\n",
      " 13%|█▎        | 2/15 [00:11<00:58,  4.50s/trial, best loss: 5.370086069268862]\n",
      "                                                                               \n",
      "🧪 View experiment at: http://127.0.0.1:5000/#/experiments/1\n",
      "\n",
      "\n",
      " 13%|█▎        | 2/15 [00:11<00:58,  4.50s/trial, best loss: 5.370086069268862]\n",
      " 20%|██        | 3/15 [00:11<00:35,  2.92s/trial, best loss: 5.370086069268862]\n",
      "                                                                               \n",
      "🏃 View run monumental-lark-386 at: http://127.0.0.1:5000/#/experiments/1/runs/9dead58dfcd147c999e3856880c50577\n",
      "\n",
      "\n",
      " 20%|██        | 3/15 [00:21<00:35,  2.92s/trial, best loss: 5.370086069268862]\n",
      "                                                                               \n",
      "🧪 View experiment at: http://127.0.0.1:5000/#/experiments/1\n",
      "\n",
      "\n",
      " 20%|██        | 3/15 [00:21<00:35,  2.92s/trial, best loss: 5.370086069268862]\n",
      " 27%|██▋       | 4/15 [00:21<01:00,  5.51s/trial, best loss: 5.357490752366866]\n",
      "                                                                               \n",
      "🏃 View run nervous-crow-827 at: http://127.0.0.1:5000/#/experiments/1/runs/c02bdf18279645fe9d77dc28861c7022\n",
      "\n",
      "\n",
      " 27%|██▋       | 4/15 [00:25<01:00,  5.51s/trial, best loss: 5.357490752366866]\n",
      "                                                                               \n",
      "🧪 View experiment at: http://127.0.0.1:5000/#/experiments/1\n",
      "\n",
      "\n",
      " 27%|██▋       | 4/15 [00:25<01:00,  5.51s/trial, best loss: 5.357490752366866]\n",
      " 33%|███▎      | 5/15 [00:25<00:52,  5.24s/trial, best loss: 5.357490752366866]\n",
      "                                                                               \n",
      "🏃 View run mysterious-jay-512 at: http://127.0.0.1:5000/#/experiments/1/runs/52db90d8ac3d45a68e3d2ed752aa7b27\n",
      "\n",
      "\n",
      " 33%|███▎      | 5/15 [00:39<00:52,  5.24s/trial, best loss: 5.357490752366866]\n",
      "                                                                               \n",
      "🧪 View experiment at: http://127.0.0.1:5000/#/experiments/1\n",
      "\n",
      "\n",
      " 33%|███▎      | 5/15 [00:39<00:52,  5.24s/trial, best loss: 5.357490752366866]\n",
      " 40%|████      | 6/15 [00:39<01:12,  8.10s/trial, best loss: 5.354695072530291]\n",
      "                                                                               \n",
      "🏃 View run youthful-squid-723 at: http://127.0.0.1:5000/#/experiments/1/runs/a09ccafe1b5d4ca7803ebf1662a6fb2b\n",
      "\n",
      "\n",
      " 40%|████      | 6/15 [00:51<01:12,  8.10s/trial, best loss: 5.354695072530291]\n",
      "                                                                               \n",
      "🧪 View experiment at: http://127.0.0.1:5000/#/experiments/1\n",
      "\n",
      "\n",
      " 40%|████      | 6/15 [00:51<01:12,  8.10s/trial, best loss: 5.354695072530291]\n",
      " 47%|████▋     | 7/15 [00:51<01:14,  9.26s/trial, best loss: 5.354695072530291]\n",
      "                                                                               \n",
      "🏃 View run wise-lark-121 at: http://127.0.0.1:5000/#/experiments/1/runs/435f9d95f0c34980a4e674b70c1ea1b0\n",
      "\n",
      "\n",
      " 47%|████▋     | 7/15 [00:52<01:14,  9.26s/trial, best loss: 5.354695072530291]\n",
      "                                                                               \n",
      "🧪 View experiment at: http://127.0.0.1:5000/#/experiments/1\n",
      "\n",
      "\n",
      " 47%|████▋     | 7/15 [00:52<01:14,  9.26s/trial, best loss: 5.354695072530291]\n",
      " 53%|█████▎    | 8/15 [00:52<00:47,  6.73s/trial, best loss: 5.354695072530291]\n",
      "                                                                               \n",
      "🏃 View run able-donkey-547 at: http://127.0.0.1:5000/#/experiments/1/runs/dba37a40a8564b1d9435a0939dd38d65\n",
      "\n",
      "\n",
      " 53%|█████▎    | 8/15 [00:59<00:47,  6.73s/trial, best loss: 5.354695072530291]\n",
      "                                                                               \n",
      "🧪 View experiment at: http://127.0.0.1:5000/#/experiments/1\n",
      "\n",
      "\n",
      " 53%|█████▎    | 8/15 [00:59<00:47,  6.73s/trial, best loss: 5.354695072530291]\n",
      " 60%|██████    | 9/15 [00:59<00:40,  6.79s/trial, best loss: 5.354695072530291]\n",
      "                                                                               \n",
      "🏃 View run casual-vole-695 at: http://127.0.0.1:5000/#/experiments/1/runs/173d21f05695495da42bab89d1e26af6\n",
      "\n",
      "\n",
      " 60%|██████    | 9/15 [01:05<00:40,  6.79s/trial, best loss: 5.354695072530291]\n",
      "                                                                               \n",
      "🧪 View experiment at: http://127.0.0.1:5000/#/experiments/1\n",
      "\n",
      "\n",
      " 60%|██████    | 9/15 [01:05<00:40,  6.79s/trial, best loss: 5.354695072530291]\n",
      " 67%|██████▋   | 10/15 [01:05<00:32,  6.43s/trial, best loss: 5.354695072530291]\n",
      "                                                                                \n",
      "🏃 View run classy-snail-818 at: http://127.0.0.1:5000/#/experiments/1/runs/0f1816d1b8864373b69b71d3628c5de8\n",
      "\n",
      "\n",
      " 67%|██████▋   | 10/15 [01:09<00:32,  6.43s/trial, best loss: 5.354695072530291]\n",
      "                                                                                \n",
      "🧪 View experiment at: http://127.0.0.1:5000/#/experiments/1\n",
      "\n",
      "\n",
      " 67%|██████▋   | 10/15 [01:09<00:32,  6.43s/trial, best loss: 5.354695072530291]\n",
      " 73%|███████▎  | 11/15 [01:09<00:23,  5.78s/trial, best loss: 5.335419588556921]\n",
      "                                                                                \n",
      "🏃 View run likeable-snail-26 at: http://127.0.0.1:5000/#/experiments/1/runs/4f8a5e5eba294f339e3804dd662f1fec\n",
      "\n",
      "\n",
      " 73%|███████▎  | 11/15 [01:13<00:23,  5.78s/trial, best loss: 5.335419588556921]\n",
      "                                                                                \n",
      "🧪 View experiment at: http://127.0.0.1:5000/#/experiments/1\n",
      "\n",
      "\n",
      " 73%|███████▎  | 11/15 [01:13<00:23,  5.78s/trial, best loss: 5.335419588556921]\n",
      " 80%|████████  | 12/15 [01:13<00:15,  5.13s/trial, best loss: 5.335419588556921]\n",
      "                                                                                \n",
      "🏃 View run indecisive-elk-442 at: http://127.0.0.1:5000/#/experiments/1/runs/622fd70d289f4026b1289b6986082945\n",
      "\n",
      "\n",
      " 80%|████████  | 12/15 [01:14<00:15,  5.13s/trial, best loss: 5.335419588556921]\n",
      "                                                                                \n",
      "🧪 View experiment at: http://127.0.0.1:5000/#/experiments/1\n",
      "\n",
      "\n",
      " 80%|████████  | 12/15 [01:14<00:15,  5.13s/trial, best loss: 5.335419588556921]\n",
      " 87%|████████▋ | 13/15 [01:14<00:07,  3.99s/trial, best loss: 5.335419588556921]\n",
      "                                                                                \n",
      "🏃 View run resilient-ant-136 at: http://127.0.0.1:5000/#/experiments/1/runs/26acf0661aa740a8b999589190d40013\n",
      "\n",
      "\n",
      " 87%|████████▋ | 13/15 [01:19<00:07,  3.99s/trial, best loss: 5.335419588556921]\n",
      "                                                                                \n",
      "🧪 View experiment at: http://127.0.0.1:5000/#/experiments/1\n",
      "\n",
      "\n",
      " 87%|████████▋ | 13/15 [01:19<00:07,  3.99s/trial, best loss: 5.335419588556921]\n",
      " 93%|█████████▎| 14/15 [01:19<00:04,  4.17s/trial, best loss: 5.335419588556921]\n",
      "                                                                                \n",
      "🏃 View run trusting-bird-242 at: http://127.0.0.1:5000/#/experiments/1/runs/cfaf264a5bc94883a6956a7c37e46a97\n",
      "\n",
      "\n",
      " 93%|█████████▎| 14/15 [01:27<00:04,  4.17s/trial, best loss: 5.335419588556921]\n",
      "                                                                                \n",
      "🧪 View experiment at: http://127.0.0.1:5000/#/experiments/1\n",
      "\n",
      "\n",
      " 93%|█████████▎| 14/15 [01:27<00:04,  4.17s/trial, best loss: 5.335419588556921]\n",
      "100%|██████████| 15/15 [01:27<00:00,  5.35s/trial, best loss: 5.335419588556921]\n",
      "100%|██████████| 15/15 [01:27<00:00,  5.81s/trial, best loss: 5.335419588556921]\n"
     ]
    }
   ],
   "source": [
    "!python hpo.py --data_path output/ "
   ]
  },
  {
   "cell_type": "markdown",
   "id": "cb698524",
   "metadata": {},
   "source": [
    "Q6. Promote the best model to the model registry\n",
    "The results from the hyperparameter optimization are quite good. So, we can assume that we are ready to test some of these models in production. In this exercise, you'll promote the best model to the model registry. We have prepared a script called register_model.py, which will check the results from the previous step and select the top 5 runs. After that, it will calculate the RMSE of those models on the test set (March 2023 data) and save the results to a new experiment called random-forest-best-models.\n",
    "\n",
    "Your task is to update the script register_model.py so that it selects the model with the lowest RMSE on the test set and registers it to the model registry.\n",
    "\n",
    "Tip 1: you can use the method search_runs from the MlflowClient to get the model with the lowest RMSE,\n",
    "\n",
    "Tip 2: to register the model you can use the method mlflow.register_model and you will need to pass the right model_uri in the form of a string that looks like this: \"runs:/<RUN_ID>/model\", and the name of the model (make sure to choose a good one!).\n",
    "\n",
    "What is the test RMSE of the best model? A: My best model has a test RMSE value: 5.567"
   ]
  },
  {
   "cell_type": "code",
   "execution_count": 54,
   "id": "1df2cfd3",
   "metadata": {},
   "outputs": [
    {
     "name": "stdout",
     "output_type": "stream",
     "text": [
      "🏃 View run bold-kit-738 at: http://127.0.0.1:5000/#/experiments/2/runs/1eccbf84c4dd45f5a961198647b6a634\n",
      "🧪 View experiment at: http://127.0.0.1:5000/#/experiments/2\n",
      "🏃 View run delicate-steed-196 at: http://127.0.0.1:5000/#/experiments/2/runs/44d4a6f0f3054734b04286cf7772d1a8\n",
      "🧪 View experiment at: http://127.0.0.1:5000/#/experiments/2\n",
      "🏃 View run intrigued-boar-976 at: http://127.0.0.1:5000/#/experiments/2/runs/9148db79eccd44099adc31f437211bc7\n",
      "🧪 View experiment at: http://127.0.0.1:5000/#/experiments/2\n",
      "🏃 View run funny-fawn-551 at: http://127.0.0.1:5000/#/experiments/2/runs/b14397b027f5472ebc14f7c9d0e475ef\n",
      "🧪 View experiment at: http://127.0.0.1:5000/#/experiments/2\n",
      "🏃 View run luminous-rook-509 at: http://127.0.0.1:5000/#/experiments/2/runs/5cbc8ff9614440509931196fe8edde55\n",
      "🧪 View experiment at: http://127.0.0.1:5000/#/experiments/2\n"
     ]
    },
    {
     "name": "stderr",
     "output_type": "stream",
     "text": [
      "Registered model 'nyc-taxi-best-run' already exists. Creating a new version of this model...\n",
      "2025/05/23 21:44:16 INFO mlflow.store.model_registry.abstract_store: Waiting up to 300 seconds for model version to finish creation. Model name: nyc-taxi-best-run, version 1\n",
      "Created version '1' of model 'nyc-taxi-best-run'.\n"
     ]
    }
   ],
   "source": [
    "!python register_model.py --data_path output/ "
   ]
  }
 ],
 "metadata": {
  "kernelspec": {
   "display_name": "Python 3",
   "language": "python",
   "name": "python3"
  },
  "language_info": {
   "codemirror_mode": {
    "name": "ipython",
    "version": 3
   },
   "file_extension": ".py",
   "mimetype": "text/x-python",
   "name": "python",
   "nbconvert_exporter": "python",
   "pygments_lexer": "ipython3",
   "version": "3.13.2"
  }
 },
 "nbformat": 4,
 "nbformat_minor": 5
}
