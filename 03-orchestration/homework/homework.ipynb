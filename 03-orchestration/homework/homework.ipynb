{
 "cells": [
  {
   "cell_type": "markdown",
   "id": "2a7ab23a",
   "metadata": {},
   "source": [
    "Question 1. Select the Tool\n",
    "You can use the same tool you used when completing the module, or choose a different one for your homework.\n",
    "\n",
    "What's the name of the orchestrator you chose? A: I have chosen Mage Orchestrator"
   ]
  },
  {
   "cell_type": "markdown",
   "id": "80164bc6",
   "metadata": {},
   "source": [
    "Question 2. Version\n",
    "What's the version of the orchestrator?\n",
    "A: My version of Mage is v0.9.73\n",
    "![Version of Mage](../images/version_mage.png)"
   ]
  },
  {
   "cell_type": "markdown",
   "id": "16e2d9e7",
   "metadata": {},
   "source": [
    "Question 3. Creating a pipeline\n",
    "Let's read the March 2023 Yellow taxi trips data.\n",
    "\n",
    "A: How many records did we load? A: The March 2023 Yellow taxi trips data has 3.403.766 rows\n",
    "![nrows March 2023 Yellow taxi](../images/nrows_taxi_march2023.png)\n",
    "\n"
   ]
  },
  {
   "cell_type": "markdown",
   "id": "97db3b4c",
   "metadata": {},
   "source": [
    "Question 4. Data preparation\n",
    "Let's continue with pipeline creation.\n",
    "\n",
    "We will use the same logic for preparing the data we used previously.\n",
    "\n",
    "This is what we used (adjusted for yellow dataset): A: The March 2023 Yellow taxi trips data prepared has 3.316.216 rows\n",
    "\n",
    "![nrows March 2023 Yellow taxi data prepared](../images/nrow_taxi_march2023_prepared.png)"
   ]
  },
  {
   "cell_type": "markdown",
   "id": "d7df90e3",
   "metadata": {},
   "source": [
    "Question 5. Train a model\n",
    "We will now train a linear regression model using the same code as in homework 1.\n",
    "\n",
    "Fit a dict vectorizer.\n",
    "Train a linear regression with default parameters.\n",
    "Use pick up and drop off locations separately, don't create a combination feature.\n",
    "Let's now use it in the pipeline. We will need to create another transformation block, and return both the dict vectorizer and the model.\n",
    "\n",
    "What's the intercept of the model? A: The intercept of the model is  24.77 \n",
    "![Intercept of the model](../images/intercept_of_the_model.png)"
   ]
  },
  {
   "cell_type": "markdown",
   "id": "2a3055b3",
   "metadata": {},
   "source": [
    "Question 6. Register the model\n",
    "The model is trained, so let's save it with MLFlow.\n",
    "\n",
    "Find the logged model, and find MLModel file.\n",
    "\n",
    "What's the size of the model? ( field):model_size_bytes\n",
    "\n",
    "My data exporter generate this Experiment 430728241070435729, Model saved in MLflow with Run ID: e80f9217a9e8460fae0e5d2a92c1f0f1\n",
    "![Data exporter](../images/export_model_mlflow.png)\n",
    "\n",
    "\n",
    "A: My model size (model_size_bytes) is 4534 bytes. I know this isn’t the best way to present it, but I’ll work on improving the communication between MLflow and Mage at another time.\n",
    "![Info Model](../images/info_model_mlflow.png)"
   ]
  }
 ],
 "metadata": {
  "language_info": {
   "name": "python"
  }
 },
 "nbformat": 4,
 "nbformat_minor": 5
}
